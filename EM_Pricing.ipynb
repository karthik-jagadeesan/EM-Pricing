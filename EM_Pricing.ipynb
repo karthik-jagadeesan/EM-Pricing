{
  "nbformat": 4,
  "nbformat_minor": 0,
  "metadata": {
    "colab": {
      "name": "EM Pricing",
      "provenance": [],
      "collapsed_sections": []
    },
    "kernelspec": {
      "name": "python3",
      "display_name": "Python 3"
    }
  },
  "cells": [
    {
      "cell_type": "code",
      "metadata": {
        "id": "10hw_sh-TwN4",
        "colab_type": "code",
        "colab": {}
      },
      "source": [
        "import numpy as np\n",
        "import pandas as pd\n",
        "from scipy.stats import norm\n",
        "from math import sqrt, exp, log\n",
        "import matplotlib.pyplot as plt\n",
        "import random\n",
        "import numba"
      ],
      "execution_count": 0,
      "outputs": []
    },
    {
      "cell_type": "markdown",
      "metadata": {
        "id": "zTfPR_zyPDR4",
        "colab_type": "text"
      },
      "source": [
        "# Numerical Procedure\n",
        "\n",
        "## Given $S$\n",
        "\n",
        "The binary or digital option is the derivative being studied here. \n",
        "\n",
        "$\n",
        "\\hspace 2em\n",
        "\\begin{equation}\n",
        "Payoff(S)= \\mathcal{H}(S)= \n",
        "    \\begin{cases}\n",
        "    1 \\quad \\phantom{1}  \\text{if}\\,\\, S_T > 0  \\\\\n",
        "    0 \\quad \\phantom{0}  otherwise \\\\\n",
        "      \\end{cases}\n",
        "\\end{equation}   \n",
        "$\n",
        "\n",
        "<br/>\n",
        "\n",
        "$\n",
        "\\hspace 2em\n",
        "\\begin{equation}\n",
        "V(S,t) = e^{-r(T-t)}\\mathbb{E}^{\\mathbb{Q}}[Payoff(S_T)]\n",
        "\\end{equation} \n",
        "$\n",
        "<br/>\n",
        "\n",
        "the closed form solution using the Black-Scholes-Merton model is:\n",
        "\n",
        "</br>\n",
        "$\n",
        "\\hspace 2em\n",
        "\\begin{equation}\n",
        "V(S,t) = e^{-r(T-t)}N(d_2)\n",
        "\\end{equation} \n",
        "$\n",
        "\n"
      ]
    },
    {
      "cell_type": "markdown",
      "metadata": {
        "id": "rDYaMI1DOz0L",
        "colab_type": "text"
      },
      "source": [
        "## Step 0: Employ Analytical Solution\n",
        "\n",
        "Here, we will use our analytical solution to the Black Scholes Model"
      ]
    },
    {
      "cell_type": "markdown",
      "metadata": {
        "id": "jTcAuEczPhAO",
        "colab_type": "text"
      },
      "source": [
        "- $C = e^{-rT}\\Phi(d_{2})$ (Digitial Call Option)\n",
        "- $P = e^{-rT}\\Phi(-d_{2})$ (Digial Put Option)\n",
        "\n",
        "Where,\n",
        "\n",
        "- $d_2 = \\frac{log(S/E) + (r - D - \\frac{1}{2}\\sigma^2)(T - t)}{\\sigma\\sqrt{T - t}}$\n",
        "\n",
        "Subsitiuting our values, we get:\n",
        "- $d_2 = \\frac{ln(100/100) + (0.05 - 0.5(0.2^2)(1 - 0))}{0.2\\sqrt{1 - 0}}$\n",
        "\n",
        "And $D = 0$,\n",
        "\n",
        "Leading to,\n",
        "\n",
        "- $d_2 = 0.15$\n",
        "\n",
        "\n",
        "Using $d_2$, we can input this value into the call and put models to get:\n",
        "- Binary Call Option = $0.532324815$\n",
        "- Binary Put Option = $0.4189046$\n",
        "\n",
        "With all this said, this analysis is purely deterministic, and does not take into account random variables. These values will be used to benchmark our analysis moving forward.\n"
      ]
    },
    {
      "cell_type": "markdown",
      "metadata": {
        "id": "Y6bwVhGYmbnR",
        "colab_type": "text"
      },
      "source": [
        "## Step 1: Monte Carlo Simulations via Forward Euler-Maruyama Scheme\n",
        "\n",
        "---\n",
        "\n",
        "Let \n",
        "\n",
        "$\\hspace 4em  T = $Expiry Date (number of years)\n",
        "\n",
        "$\\hspace 4em  M = step Size$\n",
        "\n",
        "$\\hspace 4em N = 1000$  \n",
        "\n",
        "$N$ = no. of iterations \n",
        "\n",
        "$\\hspace 4em   \\delta t = T/N$ \n",
        "\n",
        "$\\hspace 4em  $divide a time interval $[0, T]$ into $N$\n",
        "\n",
        "<br/>\n",
        "\n",
        "##$\\underline{ Brownian}$\n",
        "\n",
        "$\\hspace 2em  t_n = n · \\delta t = n \\frac{T}{N};\\hspace 2em where \\hspace 1em  n = 0, . . . , N \\\\ $\n",
        "\n",
        "> we can simulate its values at the selected points by\n",
        "\n",
        "\n",
        "$\\hspace 4em  W_{t_{n+1}} = W_{t_n} + \\Delta W_n,\\hspace 4em W_{t_0} = W_0 = 0$\n",
        "\n",
        "where $\\Delta W_n$ are independent random variables with distribution $N(0, \\delta t)$.\n",
        "\n",
        "> Let\n",
        "\n",
        "\n",
        "$\\hspace 4em N[0..N-1]$ an array of $N$ independent draws from $N(0,1)$\n",
        "\n",
        "$\\hspace 4em For\\hspace 1em  n = 0, 1, ..., N-1$\n",
        "\n",
        "$\\hspace 6em W_{n+1} = W_n + \\sqrt{\\delta}_t  N_n$\n",
        "\n",
        "$\\hspace 4em W_0 = 0 $\n",
        "\n",
        "<br/>\n",
        "\n",
        "\n",
        "### $\\underline{Euler-Maruyama (EM)}$\n",
        "\n",
        "\n",
        "$\\hspace 4em For \\hspace 1em n = 0, 1, ..., N-1$\n",
        "\n",
        "$\\hspace 6em S_{n+1} = S_n+ S_nr{\\delta}t + S_n\\sigma (W_{n+1} - W_n))$\n",
        "\n",
        "<br/>\n",
        "\n",
        "$\\hspace 4em For \\hspace 1em i=1, 2, ..., m$\n",
        "\n",
        "$\\hspace 6em S_T = $price at $'T'$ simulated with the Euler-Maruyama algorithm\n",
        "\n",
        "$\\hspace 6em C_m = h(S_T)$\n",
        "\n",
        "<br/>\n",
        "\n",
        "$\\hspace 4em C = C_1 + . . . + C_m$\n",
        "\n",
        "$\\hspace 4em price = \\frac{C}{m}$\n",
        "\n",
        "Result: the price\n",
        "\n",
        "\n"
      ]
    },
    {
      "cell_type": "code",
      "metadata": {
        "id": "ftseR9TyBy6z",
        "colab_type": "code",
        "colab": {}
      },
      "source": [
        "@numba.njit(fastmath=True)\n",
        "def generate_brownian_for(N):\n",
        "    dt = 1./N  # slice the time into N steps\n",
        "    arr_brownian = np.random.normal(0., 1., int(N))*np.sqrt(dt)  # genearate for each time step\n",
        "    W = np.cumsum(arr_brownian) #  this gives the brownian path\n",
        "    return W, arr_brownian\n",
        "  "
      ],
      "execution_count": 0,
      "outputs": []
    },
    {
      "cell_type": "code",
      "metadata": {
        "id": "QObnaHN3Ef1i",
        "colab_type": "code",
        "colab": {}
      },
      "source": [
        "# Euler Maruyama Approximation\n",
        "@numba.njit(fastmath=True)\n",
        "def euler_maruyama_approximation(initial_S, riskfree_rate, sigma, arr_brownian, T, n_time_steps, step_size):\n",
        "    dt = step_size * (1/n_time_steps)  # EM step size\n",
        "    L = n_time_steps/step_size \n",
        "    \n",
        "    Wi = [initial_S]\n",
        "    for i in range(0,int(L)):\n",
        "      start_idx = step_size*(i-1)+step_size\n",
        "      end_idx = step_size*i + step_size\n",
        "      Winc = np.sum(arr_brownian[start_idx : end_idx])\n",
        "      Wi_new = Wi[i] + Wi[i] * riskfree_rate * dt + Wi[i] * sigma * Winc\n",
        "      Wi.append(Wi_new)\n",
        "    return Wi"
      ],
      "execution_count": 0,
      "outputs": []
    },
    {
      "cell_type": "code",
      "metadata": {
        "id": "L2sqntSfHAxd",
        "colab_type": "code",
        "outputId": "25e94264-4c77-4e72-a697-178fb9e87b5d",
        "colab": {
          "base_uri": "https://localhost:8080/",
          "height": 265
        }
      },
      "source": [
        "S = 100.\n",
        "E = 100.\n",
        "sigma = 0.2 # volatility  = 20%\n",
        "r_rate = 0.05 # constant risk-free interest rate r = 5%\n",
        "T = 1\n",
        "\n",
        "M = 1 # step size for EM method to take\n",
        "N = 2000 # number of steps for Brownian Motion\n",
        "\n",
        "for i in range(10):\n",
        "  M = random.randint(1,4)\n",
        "  N = random.randint(1000, 3000)\n",
        "  b = generate_brownian_for(N)[1]\n",
        "\n",
        "  EM = euler_maruyama_approximation(initial_S=S,\n",
        "                                           riskfree_rate=r_rate,\n",
        "                                           sigma=sigma,\n",
        "                                           arr_brownian=b,\n",
        "                                           T=T,\n",
        "                                           n_time_steps=N,\n",
        "                                           step_size=M\n",
        "                                           )\n",
        "  L = N/M\n",
        "  time_EM = np.linspace(0.,1.,int(L+1))\n",
        "  plt.plot(time_EM, EM)\n"
      ],
      "execution_count": 0,
      "outputs": [
        {
          "output_type": "display_data",
          "data": {
            "image/png": "[encoded data removed]",
            "text/plain": [
              "<Figure size 432x288 with 1 Axes>"
            ]
          },
          "metadata": {
            "tags": []
          }
        }
      ]
    },
    {
      "cell_type": "code",
      "metadata": {
        "id": "Lh9EccOf1CLz",
        "colab_type": "code",
        "colab": {}
      },
      "source": [
        "@numba.njit(fastmath=True)\n",
        "def EM_approximation(initial_S, riskfree_rate, sigma, T, n_time_steps, step_size):\n",
        "    dt = 1./n_time_steps  # EM step size\n",
        "\n",
        "    arr_brownian = np.random.normal(0., 1., int(n_time_steps * step_size))*np.sqrt(dt)  # genearate for each time step\n",
        "\n",
        "    prev_S = initial_S\n",
        "    curr_S = 0         \n",
        "    for i in range(0,n_time_steps):\n",
        "      start_idx = step_size*(i-1)+step_size\n",
        "      end_idx = step_size*i + step_size\n",
        "      Winc = np.sum(arr_brownian[start_idx : end_idx])\n",
        "\n",
        "      curr_S = prev_S + prev_S * riskfree_rate * dt + prev_S * sigma * Winc\n",
        "      prev_S = curr_S\n",
        "    return curr_S"
      ],
      "execution_count": 0,
      "outputs": []
    },
    {
      "cell_type": "code",
      "metadata": {
        "id": "f8KZYwXXQEdo",
        "colab_type": "code",
        "colab": {}
      },
      "source": [
        "@np.vectorize\n",
        "def EM_simulation(S=100., K=100., sigma=0.2, r_rate=0.05, T=1, N=1000, M=1, n_simulations=500):\n",
        "    em_vec = np.vectorize(EM_approximation)(np.full(n_simulations,S), r_rate, sigma, T, N,M)\n",
        "\n",
        "    hvside_call = np.where(em_vec-K >= 0,1,0)\n",
        "    hvside_put = np.where(em_vec-K <= 0,1,0)\n",
        "    \n",
        "    payoffs_call = np.sum(hvside_call) / float(n_simulations)\n",
        "    payoffs_put = np.sum(hvside_put) / float(n_simulations)\n",
        "    \n",
        "    option_price_call = exp(-r_rate * T) * payoffs_call\n",
        "    option_price_put = exp(-r_rate * T) * payoffs_put\n",
        "\n",
        "    return option_price_call, option_price_put\n"
      ],
      "execution_count": 0,
      "outputs": []
    },
    {
      "cell_type": "code",
      "metadata": {
        "id": "hhk89cOXiqkr",
        "colab_type": "code",
        "outputId": "6cc11daa-dc53-4cce-9a08-473cc8da12d0",
        "colab": {
          "base_uri": "https://localhost:8080/",
          "height": 177
        }
      },
      "source": [
        "S = 100.\n",
        "K = 100.\n",
        "sigma = 0.2 # volatility  = 20%\n",
        "r_rate = 0.05 # constant risk-free interest rate r = 5%\n",
        "T = 1\n",
        "\n",
        "M = 1 # step size for EM method to take\n",
        "N = 1000# number of steps for Brownian Motion\n",
        "\n",
        "n_simulations = [500, 1000, 1500, 2000, 5000, 10000, 20000, 40000]\n",
        "\n",
        "print(\"going to run {} of simlations\".format(len(n_simulations)))\n",
        "for idx, i in enumerate(n_simulations):\n",
        "  print(\"simulation: {} with {} iterations\".format(idx+1, i))\n"
      ],
      "execution_count": 0,
      "outputs": [
        {
          "output_type": "stream",
          "text": [
            "going to run 8 of simlations\n",
            "simulation: 1 with 500 iterations\n",
            "simulation: 2 with 1000 iterations\n",
            "simulation: 3 with 1500 iterations\n",
            "simulation: 4 with 2000 iterations\n",
            "simulation: 5 with 5000 iterations\n",
            "simulation: 6 with 10000 iterations\n",
            "simulation: 7 with 20000 iterations\n",
            "simulation: 8 with 40000 iterations\n"
          ],
          "name": "stdout"
        }
      ]
    },
    {
      "cell_type": "code",
      "metadata": {
        "id": "E0xb26EPkpEV",
        "colab_type": "code",
        "outputId": "6ecc3b5b-513f-4b56-f2d4-7fedc27ae1c4",
        "colab": {
          "base_uri": "https://localhost:8080/",
          "height": 282
        }
      },
      "source": [
        "results = EM_simulation(S, K, sigma, r_rate, T, N, M, n_simulations)\n",
        "cols = ['sim_{}'.format(i) for i in n_simulations]\n",
        "df = pd.DataFrame(results, columns=cols)\n",
        "df = df.T\n",
        "df.columns=[\"call\", \"put\"]\n",
        "df"
      ],
      "execution_count": 0,
      "outputs": [
        {
          "output_type": "execute_result",
          "data": {
            "text/html": [
              "<div>\n",
              "<style scoped>\n",
              "    .dataframe tbody tr th:only-of-type {\n",
              "        vertical-align: middle;\n",
              "    }\n",
              "\n",
              "    .dataframe tbody tr th {\n",
              "        vertical-align: top;\n",
              "    }\n",
              "\n",
              "    .dataframe thead th {\n",
              "        text-align: right;\n",
              "    }\n",
              "</style>\n",
              "<table border=\"1\" class=\"dataframe\">\n",
              "  <thead>\n",
              "    <tr style=\"text-align: right;\">\n",
              "      <th></th>\n",
              "      <th>call</th>\n",
              "      <th>put</th>\n",
              "    </tr>\n",
              "  </thead>\n",
              "  <tbody>\n",
              "    <tr>\n",
              "      <th>sim_500</th>\n",
              "      <td>0.513664</td>\n",
              "      <td>0.437566</td>\n",
              "    </tr>\n",
              "    <tr>\n",
              "      <th>sim_1000</th>\n",
              "      <td>0.530786</td>\n",
              "      <td>0.420443</td>\n",
              "    </tr>\n",
              "    <tr>\n",
              "      <th>sim_1500</th>\n",
              "      <td>0.547908</td>\n",
              "      <td>0.403321</td>\n",
              "    </tr>\n",
              "    <tr>\n",
              "      <th>sim_2000</th>\n",
              "      <td>0.534115</td>\n",
              "      <td>0.417114</td>\n",
              "    </tr>\n",
              "    <tr>\n",
              "      <th>sim_5000</th>\n",
              "      <td>0.532118</td>\n",
              "      <td>0.419112</td>\n",
              "    </tr>\n",
              "    <tr>\n",
              "      <th>sim_10000</th>\n",
              "      <td>0.529074</td>\n",
              "      <td>0.422156</td>\n",
              "    </tr>\n",
              "    <tr>\n",
              "      <th>sim_20000</th>\n",
              "      <td>0.528979</td>\n",
              "      <td>0.422251</td>\n",
              "    </tr>\n",
              "    <tr>\n",
              "      <th>sim_40000</th>\n",
              "      <td>0.530287</td>\n",
              "      <td>0.420943</td>\n",
              "    </tr>\n",
              "  </tbody>\n",
              "</table>\n",
              "</div>"
            ],
            "text/plain": [
              "               call       put\n",
              "sim_500    0.513664  0.437566\n",
              "sim_1000   0.530786  0.420443\n",
              "sim_1500   0.547908  0.403321\n",
              "sim_2000   0.534115  0.417114\n",
              "sim_5000   0.532118  0.419112\n",
              "sim_10000  0.529074  0.422156\n",
              "sim_20000  0.528979  0.422251\n",
              "sim_40000  0.530287  0.420943"
            ]
          },
          "metadata": {
            "tags": []
          },
          "execution_count": 25
        }
      ]
    },
    {
      "cell_type": "markdown",
      "metadata": {
        "id": "CCpKEKryqlkg",
        "colab_type": "text"
      },
      "source": [
        "---\n",
        "Checking results\n",
        "with $\\underline{Black Scholes}$ model:\n",
        "\n",
        "$\\hspace 4em C={e}^{−rT}  \\Phi(d2)$\n",
        "\n",
        "$\\hspace 4em P={e}^{−rT} \\Phi(-d2)$\n",
        "\n",
        "$\\hspace 4em$ Where $\\Phi$ is the cumulative normal distribution function\n",
        "\n",
        "$\\hspace 4em$ and $d2 = \\frac{log(\\frac{S}{K}) + (r - \\frac{1}{2}{\\sigma}^2)T}{\\sigma\\sqrt{T}} $ \n",
        "\n",
        "---"
      ]
    },
    {
      "cell_type": "code",
      "metadata": {
        "id": "glTbMmVRpMi7",
        "colab_type": "code",
        "outputId": "610bc119-ba3b-4891-bd9d-580f6923178f",
        "colab": {
          "base_uri": "https://localhost:8080/",
          "height": 282
        }
      },
      "source": [
        "d2 = (log(S/K) + (r_rate - 0.5 * sigma**2) * T) / sigma*sqrt(T)\n",
        "call = exp(-r_rate * T) * norm.cdf(d2)\n",
        "put = exp(-r_rate * T) * norm.cdf(-d2)\n",
        "\n",
        "df[\"BS_call\"] = call\n",
        "df[\"BS_put\"] = put\n",
        "df[\"err_call\"] = (abs(df.call-df.BS_call)/df.BS_call) * 100\n",
        "df[\"err_put\"] = (abs(df.put-df.BS_put)/df.BS_put) * 100\n",
        "\n",
        "df"
      ],
      "execution_count": 0,
      "outputs": [
        {
          "output_type": "execute_result",
          "data": {
            "text/html": [
              "<div>\n",
              "<style scoped>\n",
              "    .dataframe tbody tr th:only-of-type {\n",
              "        vertical-align: middle;\n",
              "    }\n",
              "\n",
              "    .dataframe tbody tr th {\n",
              "        vertical-align: top;\n",
              "    }\n",
              "\n",
              "    .dataframe thead th {\n",
              "        text-align: right;\n",
              "    }\n",
              "</style>\n",
              "<table border=\"1\" class=\"dataframe\">\n",
              "  <thead>\n",
              "    <tr style=\"text-align: right;\">\n",
              "      <th></th>\n",
              "      <th>call</th>\n",
              "      <th>put</th>\n",
              "      <th>BS_call</th>\n",
              "      <th>BS_put</th>\n",
              "      <th>err_call</th>\n",
              "      <th>err_put</th>\n",
              "    </tr>\n",
              "  </thead>\n",
              "  <tbody>\n",
              "    <tr>\n",
              "      <th>sim_500</th>\n",
              "      <td>0.513664</td>\n",
              "      <td>0.437566</td>\n",
              "      <td>0.532325</td>\n",
              "      <td>0.418905</td>\n",
              "      <td>3.505553</td>\n",
              "      <td>4.454696</td>\n",
              "    </tr>\n",
              "    <tr>\n",
              "      <th>sim_1000</th>\n",
              "      <td>0.530786</td>\n",
              "      <td>0.420443</td>\n",
              "      <td>0.532325</td>\n",
              "      <td>0.418905</td>\n",
              "      <td>0.289071</td>\n",
              "      <td>0.367338</td>\n",
              "    </tr>\n",
              "    <tr>\n",
              "      <th>sim_1500</th>\n",
              "      <td>0.547908</td>\n",
              "      <td>0.403321</td>\n",
              "      <td>0.532325</td>\n",
              "      <td>0.418905</td>\n",
              "      <td>2.927411</td>\n",
              "      <td>3.720019</td>\n",
              "    </tr>\n",
              "    <tr>\n",
              "      <th>sim_2000</th>\n",
              "      <td>0.534115</td>\n",
              "      <td>0.417114</td>\n",
              "      <td>0.532325</td>\n",
              "      <td>0.418905</td>\n",
              "      <td>0.336356</td>\n",
              "      <td>0.427426</td>\n",
              "    </tr>\n",
              "    <tr>\n",
              "      <th>sim_5000</th>\n",
              "      <td>0.532118</td>\n",
              "      <td>0.419112</td>\n",
              "      <td>0.532325</td>\n",
              "      <td>0.418905</td>\n",
              "      <td>0.038900</td>\n",
              "      <td>0.049433</td>\n",
              "    </tr>\n",
              "    <tr>\n",
              "      <th>sim_10000</th>\n",
              "      <td>0.529074</td>\n",
              "      <td>0.422156</td>\n",
              "      <td>0.532325</td>\n",
              "      <td>0.418905</td>\n",
              "      <td>0.610719</td>\n",
              "      <td>0.776074</td>\n",
              "    </tr>\n",
              "    <tr>\n",
              "      <th>sim_20000</th>\n",
              "      <td>0.528979</td>\n",
              "      <td>0.422251</td>\n",
              "      <td>0.532325</td>\n",
              "      <td>0.418905</td>\n",
              "      <td>0.628588</td>\n",
              "      <td>0.798781</td>\n",
              "    </tr>\n",
              "    <tr>\n",
              "      <th>sim_40000</th>\n",
              "      <td>0.530287</td>\n",
              "      <td>0.420943</td>\n",
              "      <td>0.532325</td>\n",
              "      <td>0.418905</td>\n",
              "      <td>0.382885</td>\n",
              "      <td>0.486553</td>\n",
              "    </tr>\n",
              "  </tbody>\n",
              "</table>\n",
              "</div>"
            ],
            "text/plain": [
              "               call       put   BS_call    BS_put  err_call   err_put\n",
              "sim_500    0.513664  0.437566  0.532325  0.418905  3.505553  4.454696\n",
              "sim_1000   0.530786  0.420443  0.532325  0.418905  0.289071  0.367338\n",
              "sim_1500   0.547908  0.403321  0.532325  0.418905  2.927411  3.720019\n",
              "sim_2000   0.534115  0.417114  0.532325  0.418905  0.336356  0.427426\n",
              "sim_5000   0.532118  0.419112  0.532325  0.418905  0.038900  0.049433\n",
              "sim_10000  0.529074  0.422156  0.532325  0.418905  0.610719  0.776074\n",
              "sim_20000  0.528979  0.422251  0.532325  0.418905  0.628588  0.798781\n",
              "sim_40000  0.530287  0.420943  0.532325  0.418905  0.382885  0.486553"
            ]
          },
          "metadata": {
            "tags": []
          },
          "execution_count": 26
        }
      ]
    },
    {
      "cell_type": "code",
      "metadata": {
        "id": "vAMFFWXFhe__",
        "colab_type": "code",
        "outputId": "4b0c8caf-846b-4b3e-cd6c-811c51546917",
        "colab": {
          "base_uri": "https://localhost:8080/",
          "height": 417
        }
      },
      "source": [
        "import plotly.graph_objects as go\n",
        "\n",
        "layout = go.Layout(autosize=True, width=700, height=400,\n",
        "                   font={\"family\": \"Raleway\", \"size\": 10},\n",
        "                   margin={ \"r\": 30, \"t\": 30, \"b\": 30, \"l\": 30, },\n",
        "                   showlegend=True,\n",
        "                   titlefont={ \"family\": \"Raleway\", \"size\": 10, }\n",
        "                   )\n",
        "\n",
        "fig = go.Figure(layout=layout)\n",
        "s_list = \"err_call err_put\".split()\n",
        "\n",
        "fig.add_traces( [go.Scatter(x=df.index, y=df[col],\n",
        "                    mode='lines+markers',\n",
        "                    name=col) for col in s_list]\n",
        "               )\n",
        "\n",
        "fig.show()"
      ],
      "execution_count": 0,
      "outputs": [
        {
          "output_type": "display_data",
          "data": {
            "text/html": [
              "<html>\n",
              "<head><meta charset=\"utf-8\" /></head>\n",
              "<body>\n",
              "    <div>\n",
              "            <script src=\"https://cdnjs.cloudflare.com/ajax/libs/mathjax/2.7.5/MathJax.js?config=TeX-AMS-MML_SVG\"></script><script type=\"text/javascript\">if (window.MathJax) {MathJax.Hub.Config({SVG: {font: \"STIX-Web\"}});}</script>\n",
              "                <script type=\"text/javascript\">window.PlotlyConfig = {MathJaxConfig: 'local'};</script>\n",
              "        <script src=\"https://cdn.plot.ly/plotly-latest.min.js\"></script>    \n",
              "            <div id=\"a748988a-341d-4795-a92a-91e874793481\" class=\"plotly-graph-div\" style=\"height:400px; width:700px;\"></div>\n",
              "            <script type=\"text/javascript\">\n",
              "                \n",
              "                    window.PLOTLYENV=window.PLOTLYENV || {};\n",
              "                    \n",
              "                if (document.getElementById(\"a748988a-341d-4795-a92a-91e874793481\")) {\n",
              "                    Plotly.newPlot(\n",
              "                        'a748988a-341d-4795-a92a-91e874793481',\n",
              "                        [{\"mode\": \"lines+markers\", \"name\": \"err_call\", \"type\": \"scatter\", \"x\": [\"sim_500\", \"sim_1000\", \"sim_1500\", \"sim_2000\", \"sim_5000\", \"sim_10000\", \"sim_20000\", \"sim_40000\"], \"y\": [3.5055525652079296, 0.2890709840482075, 2.927410597111515, 0.33635599006618816, 0.038900194402445055, 0.6107191421641819, 0.6285884842817349, 0.38288503016535536]}, {\"mode\": \"lines+markers\", \"name\": \"err_put\", \"type\": \"scatter\", \"x\": [\"sim_500\", \"sim_1000\", \"sim_1500\", \"sim_2000\", \"sim_5000\", \"sim_10000\", \"sim_20000\", \"sim_40000\"], \"y\": [4.454695847303587, 0.36733818371343707, 3.7200194798767003, 0.42742580642909356, 0.049432587656419516, 0.7760739500724521, 0.7987814926479514, 0.48655278223481535]}],\n",
              "                        {\"autosize\": true, \"font\": {\"family\": \"Raleway\", \"size\": 10}, \"height\": 400, \"margin\": {\"b\": 30, \"l\": 30, \"r\": 30, \"t\": 30}, \"showlegend\": true, \"template\": {\"data\": {\"bar\": [{\"error_x\": {\"color\": \"#2a3f5f\"}, \"error_y\": {\"color\": \"#2a3f5f\"}, \"marker\": {\"line\": {\"color\": \"#E5ECF6\", \"width\": 0.5}}, \"type\": \"bar\"}], \"barpolar\": [{\"marker\": {\"line\": {\"color\": \"#E5ECF6\", \"width\": 0.5}}, \"type\": \"barpolar\"}], \"carpet\": [{\"aaxis\": {\"endlinecolor\": \"#2a3f5f\", \"gridcolor\": \"white\", \"linecolor\": \"white\", \"minorgridcolor\": \"white\", \"startlinecolor\": \"#2a3f5f\"}, \"baxis\": {\"endlinecolor\": \"#2a3f5f\", \"gridcolor\": \"white\", \"linecolor\": \"white\", \"minorgridcolor\": \"white\", \"startlinecolor\": \"#2a3f5f\"}, \"type\": \"carpet\"}], \"choropleth\": [{\"colorbar\": {\"outlinewidth\": 0, \"ticks\": \"\"}, \"type\": \"choropleth\"}], \"contour\": [{\"colorbar\": {\"outlinewidth\": 0, \"ticks\": \"\"}, \"colorscale\": [[0.0, \"#0d0887\"], [0.1111111111111111, \"#46039f\"], [0.2222222222222222, \"#7201a8\"], [0.3333333333333333, \"#9c179e\"], [0.4444444444444444, \"#bd3786\"], [0.5555555555555556, \"#d8576b\"], [0.6666666666666666, \"#ed7953\"], [0.7777777777777778, \"#fb9f3a\"], [0.8888888888888888, \"#fdca26\"], [1.0, \"#f0f921\"]], \"type\": \"contour\"}], \"contourcarpet\": [{\"colorbar\": {\"outlinewidth\": 0, \"ticks\": \"\"}, \"type\": \"contourcarpet\"}], \"heatmap\": [{\"colorbar\": {\"outlinewidth\": 0, \"ticks\": \"\"}, \"colorscale\": [[0.0, \"#0d0887\"], [0.1111111111111111, \"#46039f\"], [0.2222222222222222, \"#7201a8\"], [0.3333333333333333, \"#9c179e\"], [0.4444444444444444, \"#bd3786\"], [0.5555555555555556, \"#d8576b\"], [0.6666666666666666, \"#ed7953\"], [0.7777777777777778, \"#fb9f3a\"], [0.8888888888888888, \"#fdca26\"], [1.0, \"#f0f921\"]], \"type\": \"heatmap\"}], \"heatmapgl\": [{\"colorbar\": {\"outlinewidth\": 0, \"ticks\": \"\"}, \"colorscale\": [[0.0, \"#0d0887\"], [0.1111111111111111, \"#46039f\"], [0.2222222222222222, \"#7201a8\"], [0.3333333333333333, \"#9c179e\"], [0.4444444444444444, \"#bd3786\"], [0.5555555555555556, \"#d8576b\"], [0.6666666666666666, \"#ed7953\"], [0.7777777777777778, \"#fb9f3a\"], [0.8888888888888888, \"#fdca26\"], [1.0, \"#f0f921\"]], \"type\": \"heatmapgl\"}], \"histogram\": [{\"marker\": {\"colorbar\": {\"outlinewidth\": 0, \"ticks\": \"\"}}, \"type\": \"histogram\"}], \"histogram2d\": [{\"colorbar\": {\"outlinewidth\": 0, \"ticks\": \"\"}, \"colorscale\": [[0.0, \"#0d0887\"], [0.1111111111111111, \"#46039f\"], [0.2222222222222222, \"#7201a8\"], [0.3333333333333333, \"#9c179e\"], [0.4444444444444444, \"#bd3786\"], [0.5555555555555556, \"#d8576b\"], [0.6666666666666666, \"#ed7953\"], [0.7777777777777778, \"#fb9f3a\"], [0.8888888888888888, \"#fdca26\"], [1.0, \"#f0f921\"]], \"type\": \"histogram2d\"}], \"histogram2dcontour\": [{\"colorbar\": {\"outlinewidth\": 0, \"ticks\": \"\"}, \"colorscale\": [[0.0, \"#0d0887\"], [0.1111111111111111, \"#46039f\"], [0.2222222222222222, \"#7201a8\"], [0.3333333333333333, \"#9c179e\"], [0.4444444444444444, \"#bd3786\"], [0.5555555555555556, \"#d8576b\"], [0.6666666666666666, \"#ed7953\"], [0.7777777777777778, \"#fb9f3a\"], [0.8888888888888888, \"#fdca26\"], [1.0, \"#f0f921\"]], \"type\": \"histogram2dcontour\"}], \"mesh3d\": [{\"colorbar\": {\"outlinewidth\": 0, \"ticks\": \"\"}, \"type\": \"mesh3d\"}], \"parcoords\": [{\"line\": {\"colorbar\": {\"outlinewidth\": 0, \"ticks\": \"\"}}, \"type\": \"parcoords\"}], \"pie\": [{\"automargin\": true, \"type\": \"pie\"}], \"scatter\": [{\"marker\": {\"colorbar\": {\"outlinewidth\": 0, \"ticks\": \"\"}}, \"type\": \"scatter\"}], \"scatter3d\": [{\"line\": {\"colorbar\": {\"outlinewidth\": 0, \"ticks\": \"\"}}, \"marker\": {\"colorbar\": {\"outlinewidth\": 0, \"ticks\": \"\"}}, \"type\": \"scatter3d\"}], \"scattercarpet\": [{\"marker\": {\"colorbar\": {\"outlinewidth\": 0, \"ticks\": \"\"}}, \"type\": \"scattercarpet\"}], \"scattergeo\": [{\"marker\": {\"colorbar\": {\"outlinewidth\": 0, \"ticks\": \"\"}}, \"type\": \"scattergeo\"}], \"scattergl\": [{\"marker\": {\"colorbar\": {\"outlinewidth\": 0, \"ticks\": \"\"}}, \"type\": \"scattergl\"}], \"scattermapbox\": [{\"marker\": {\"colorbar\": {\"outlinewidth\": 0, \"ticks\": \"\"}}, \"type\": \"scattermapbox\"}], \"scatterpolar\": [{\"marker\": {\"colorbar\": {\"outlinewidth\": 0, \"ticks\": \"\"}}, \"type\": \"scatterpolar\"}], \"scatterpolargl\": [{\"marker\": {\"colorbar\": {\"outlinewidth\": 0, \"ticks\": \"\"}}, \"type\": \"scatterpolargl\"}], \"scatterternary\": [{\"marker\": {\"colorbar\": {\"outlinewidth\": 0, \"ticks\": \"\"}}, \"type\": \"scatterternary\"}], \"surface\": [{\"colorbar\": {\"outlinewidth\": 0, \"ticks\": \"\"}, \"colorscale\": [[0.0, \"#0d0887\"], [0.1111111111111111, \"#46039f\"], [0.2222222222222222, \"#7201a8\"], [0.3333333333333333, \"#9c179e\"], [0.4444444444444444, \"#bd3786\"], [0.5555555555555556, \"#d8576b\"], [0.6666666666666666, \"#ed7953\"], [0.7777777777777778, \"#fb9f3a\"], [0.8888888888888888, \"#fdca26\"], [1.0, \"#f0f921\"]], \"type\": \"surface\"}], \"table\": [{\"cells\": {\"fill\": {\"color\": \"#EBF0F8\"}, \"line\": {\"color\": \"white\"}}, \"header\": {\"fill\": {\"color\": \"#C8D4E3\"}, \"line\": {\"color\": \"white\"}}, \"type\": \"table\"}]}, \"layout\": {\"annotationdefaults\": {\"arrowcolor\": \"#2a3f5f\", \"arrowhead\": 0, \"arrowwidth\": 1}, \"coloraxis\": {\"colorbar\": {\"outlinewidth\": 0, \"ticks\": \"\"}}, \"colorscale\": {\"diverging\": [[0, \"#8e0152\"], [0.1, \"#c51b7d\"], [0.2, \"#de77ae\"], [0.3, \"#f1b6da\"], [0.4, \"#fde0ef\"], [0.5, \"#f7f7f7\"], [0.6, \"#e6f5d0\"], [0.7, \"#b8e186\"], [0.8, \"#7fbc41\"], [0.9, \"#4d9221\"], [1, \"#276419\"]], \"sequential\": [[0.0, \"#0d0887\"], [0.1111111111111111, \"#46039f\"], [0.2222222222222222, \"#7201a8\"], [0.3333333333333333, \"#9c179e\"], [0.4444444444444444, \"#bd3786\"], [0.5555555555555556, \"#d8576b\"], [0.6666666666666666, \"#ed7953\"], [0.7777777777777778, \"#fb9f3a\"], [0.8888888888888888, \"#fdca26\"], [1.0, \"#f0f921\"]], \"sequentialminus\": [[0.0, \"#0d0887\"], [0.1111111111111111, \"#46039f\"], [0.2222222222222222, \"#7201a8\"], [0.3333333333333333, \"#9c179e\"], [0.4444444444444444, \"#bd3786\"], [0.5555555555555556, \"#d8576b\"], [0.6666666666666666, \"#ed7953\"], [0.7777777777777778, \"#fb9f3a\"], [0.8888888888888888, \"#fdca26\"], [1.0, \"#f0f921\"]]}, \"colorway\": [\"#636efa\", \"#EF553B\", \"#00cc96\", \"#ab63fa\", \"#FFA15A\", \"#19d3f3\", \"#FF6692\", \"#B6E880\", \"#FF97FF\", \"#FECB52\"], \"font\": {\"color\": \"#2a3f5f\"}, \"geo\": {\"bgcolor\": \"white\", \"lakecolor\": \"white\", \"landcolor\": \"#E5ECF6\", \"showlakes\": true, \"showland\": true, \"subunitcolor\": \"white\"}, \"hoverlabel\": {\"align\": \"left\"}, \"hovermode\": \"closest\", \"mapbox\": {\"style\": \"light\"}, \"paper_bgcolor\": \"white\", \"plot_bgcolor\": \"#E5ECF6\", \"polar\": {\"angularaxis\": {\"gridcolor\": \"white\", \"linecolor\": \"white\", \"ticks\": \"\"}, \"bgcolor\": \"#E5ECF6\", \"radialaxis\": {\"gridcolor\": \"white\", \"linecolor\": \"white\", \"ticks\": \"\"}}, \"scene\": {\"xaxis\": {\"backgroundcolor\": \"#E5ECF6\", \"gridcolor\": \"white\", \"gridwidth\": 2, \"linecolor\": \"white\", \"showbackground\": true, \"ticks\": \"\", \"zerolinecolor\": \"white\"}, \"yaxis\": {\"backgroundcolor\": \"#E5ECF6\", \"gridcolor\": \"white\", \"gridwidth\": 2, \"linecolor\": \"white\", \"showbackground\": true, \"ticks\": \"\", \"zerolinecolor\": \"white\"}, \"zaxis\": {\"backgroundcolor\": \"#E5ECF6\", \"gridcolor\": \"white\", \"gridwidth\": 2, \"linecolor\": \"white\", \"showbackground\": true, \"ticks\": \"\", \"zerolinecolor\": \"white\"}}, \"shapedefaults\": {\"line\": {\"color\": \"#2a3f5f\"}}, \"ternary\": {\"aaxis\": {\"gridcolor\": \"white\", \"linecolor\": \"white\", \"ticks\": \"\"}, \"baxis\": {\"gridcolor\": \"white\", \"linecolor\": \"white\", \"ticks\": \"\"}, \"bgcolor\": \"#E5ECF6\", \"caxis\": {\"gridcolor\": \"white\", \"linecolor\": \"white\", \"ticks\": \"\"}}, \"title\": {\"x\": 0.05}, \"xaxis\": {\"automargin\": true, \"gridcolor\": \"white\", \"linecolor\": \"white\", \"ticks\": \"\", \"title\": {\"standoff\": 15}, \"zerolinecolor\": \"white\", \"zerolinewidth\": 2}, \"yaxis\": {\"automargin\": true, \"gridcolor\": \"white\", \"linecolor\": \"white\", \"ticks\": \"\", \"title\": {\"standoff\": 15}, \"zerolinecolor\": \"white\", \"zerolinewidth\": 2}}}, \"title\": {\"font\": {\"family\": \"Raleway\", \"size\": 10}}, \"width\": 700},\n",
              "                        {\"responsive\": true}\n",
              "                    ).then(function(){\n",
              "                            \n",
              "var gd = document.getElementById('a748988a-341d-4795-a92a-91e874793481');\n",
              "var x = new MutationObserver(function (mutations, observer) {{\n",
              "        var display = window.getComputedStyle(gd).display;\n",
              "        if (!display || display === 'none') {{\n",
              "            console.log([gd, 'removed!']);\n",
              "            Plotly.purge(gd);\n",
              "            observer.disconnect();\n",
              "        }}\n",
              "}});\n",
              "\n",
              "// Listen for the removal of the full notebook cells\n",
              "var notebookContainer = gd.closest('#notebook-container');\n",
              "if (notebookContainer) {{\n",
              "    x.observe(notebookContainer, {childList: true});\n",
              "}}\n",
              "\n",
              "// Listen for the clearing of the current output cell\n",
              "var outputEl = gd.closest('.output');\n",
              "if (outputEl) {{\n",
              "    x.observe(outputEl, {childList: true});\n",
              "}}\n",
              "\n",
              "                        })\n",
              "                };\n",
              "                \n",
              "            </script>\n",
              "        </div>\n",
              "</body>\n",
              "</html>"
            ]
          },
          "metadata": {
            "tags": []
          }
        }
      ]
    },
    {
      "cell_type": "markdown",
      "metadata": {
        "id": "bOH47Se-ZdXD",
        "colab_type": "text"
      },
      "source": [
        "## Step 2: Conclusions\n",
        " \n",
        "The first step here was to calculate an exact set of option values through the analytical method using the Black-Scholes Model to benchmark our results from the simulations. Several Monte Carlo simulations were then run using the Forward Euler-Maruyama method to evaluate the accuracy and precision of our model.\n",
        "\n",
        "The Euler-Maruyama methodology did not show converinging error reduction with an increase in  the simulation size. However at $N = 5000$ yielded a value as accurate and exact up to three decimal places($V = 0.532118$) for Binary Call Option and two decimal places ($V = 0.419112$) for Binary Put Option\n",
        "\n",
        "Beyond 5000 simulations and up to 40,000 the error percent ranged from $0.0389%$ and $0.628588$ for the digital Call Option value and $0.049433$ and $0.798781$ for the digital Put Option value"
      ]
    }
  ]
}